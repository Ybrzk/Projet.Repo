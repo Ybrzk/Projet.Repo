{
 "cells": [
  {
   "cell_type": "code",
   "execution_count": 6,
   "metadata": {},
   "outputs": [],
   "source": [
    "import math"
   ]
  },
  {
   "cell_type": "code",
   "execution_count": 7,
   "metadata": {},
   "outputs": [
    {
     "name": "stdout",
     "output_type": "stream",
     "text": [
      "tapez la valuer de n : 14\n"
     ]
    }
   ],
   "source": [
    "n = input(\"tapez la valuer de n : \")"
   ]
  },
  {
   "cell_type": "code",
   "execution_count": 8,
   "metadata": {},
   "outputs": [],
   "source": [
    "n = int(n)"
   ]
  },
  {
   "cell_type": "code",
   "execution_count": 9,
   "metadata": {},
   "outputs": [],
   "source": [
    "r = n % 2"
   ]
  },
  {
   "cell_type": "code",
   "execution_count": 11,
   "metadata": {},
   "outputs": [
    {
     "name": "stdout",
     "output_type": "stream",
     "text": [
      "le nombre tapez est paire\n"
     ]
    }
   ],
   "source": [
    "if(r == 0):\n",
    "    print (\"le nombre tapez est paire\")"
   ]
  },
  {
   "cell_type": "code",
   "execution_count": 12,
   "metadata": {},
   "outputs": [],
   "source": [
    "import math"
   ]
  },
  {
   "cell_type": "code",
   "execution_count": 13,
   "metadata": {},
   "outputs": [
    {
     "name": "stdout",
     "output_type": "stream",
     "text": [
      "XA=5\n",
      "YA=6\n",
      "XB=7\n",
      "YB=8\n",
      "XC=9\n",
      "YC=10\n"
     ]
    }
   ],
   "source": [
    "XA=int(input(\"XA=\"))\n",
    "YA=int(input(\"YA=\"))\n",
    "XB=int(input(\"XB=\"))\n",
    "YB=int(input(\"YB=\"))\n",
    "XC=int(input(\"XC=\"))\n",
    "YC=int(input(\"YC=\"))"
   ]
  },
  {
   "cell_type": "code",
   "execution_count": 17,
   "metadata": {},
   "outputs": [
    {
     "ename": "SyntaxError",
     "evalue": "invalid syntax (<ipython-input-17-5efb8bc44c57>, line 1)",
     "output_type": "error",
     "traceback": [
      "\u001b[0;36m  File \u001b[0;32m\"<ipython-input-17-5efb8bc44c57>\"\u001b[0;36m, line \u001b[0;32m1\u001b[0m\n\u001b[0;31m    if YA>XA and YB>XB\u001b[0m\n\u001b[0m                      ^\u001b[0m\n\u001b[0;31mSyntaxError\u001b[0m\u001b[0;31m:\u001b[0m invalid syntax\n"
     ]
    }
   ],
   "source": [
    "if YA>XA and YB>XB\n",
    "        YB**2==XA**2+XB**2\n",
    "        print(\"Le triangle est rectangle en C\")"
   ]
  },
  {
   "cell_type": "code",
   "execution_count": 18,
   "metadata": {},
   "outputs": [],
   "source": [
    "import math"
   ]
  },
  {
   "cell_type": "code",
   "execution_count": 23,
   "metadata": {},
   "outputs": [
    {
     "name": "stdout",
     "output_type": "stream",
     "text": [
      "entrez la longueur \"a\" du triangle : \n",
      "8\n"
     ]
    }
   ],
   "source": [
    "print ('entrez la longueur \"a\" du triangle : ')\n",
    "a = input()"
   ]
  },
  {
   "cell_type": "code",
   "execution_count": 25,
   "metadata": {},
   "outputs": [
    {
     "name": "stdout",
     "output_type": "stream",
     "text": [
      "entrez la longueur \"b\" du triangle\n",
      "9\n"
     ]
    }
   ],
   "source": [
    "print ('entrez la longueur \"b\" du triangle')\n",
    "b = input()"
   ]
  },
  {
   "cell_type": "code",
   "execution_count": 27,
   "metadata": {},
   "outputs": [
    {
     "name": "stdout",
     "output_type": "stream",
     "text": [
      "entrez la longueur \"c\" du triangle\n",
      "10\n"
     ]
    }
   ],
   "source": [
    "print ('entrez la longueur \"c\" du triangle')\n",
    "c = input ()\n",
    "f = 0"
   ]
  },
  {
   "cell_type": "code",
   "execution_count": 31,
   "metadata": {},
   "outputs": [
    {
     "ename": "TypeError",
     "evalue": "unsupported operand type(s) for ** or pow(): 'str' and 'int'",
     "output_type": "error",
     "traceback": [
      "\u001b[0;31m---------------------------------------------------------------------------\u001b[0m",
      "\u001b[0;31mTypeError\u001b[0m                                 Traceback (most recent call last)",
      "\u001b[0;32m<ipython-input-31-4bdbfb1d3531>\u001b[0m in \u001b[0;36m<module>\u001b[0;34m\u001b[0m\n\u001b[0;32m----> 1\u001b[0;31m \u001b[0;32mif\u001b[0m \u001b[0mb\u001b[0m \u001b[0;34m**\u001b[0m \u001b[0;36m2\u001b[0m \u001b[0;34m==\u001b[0m \u001b[0mc\u001b[0m \u001b[0;34m**\u001b[0m \u001b[0;36m2\u001b[0m \u001b[0;34m+\u001b[0m \u001b[0ma\u001b[0m \u001b[0;34m**\u001b[0m \u001b[0;36m2\u001b[0m \u001b[0;32mor\u001b[0m \u001b[0ma\u001b[0m \u001b[0;34m**\u001b[0m \u001b[0;36m2\u001b[0m \u001b[0;34m==\u001b[0m \u001b[0mb\u001b[0m \u001b[0;34m**\u001b[0m \u001b[0;36m2\u001b[0m \u001b[0;34m+\u001b[0m \u001b[0mc\u001b[0m \u001b[0;34m**\u001b[0m \u001b[0;36m2\u001b[0m \u001b[0;32mor\u001b[0m \u001b[0mc\u001b[0m \u001b[0;34m**\u001b[0m \u001b[0;36m2\u001b[0m \u001b[0;34m==\u001b[0m \u001b[0ma\u001b[0m \u001b[0;34m**\u001b[0m \u001b[0;36m2\u001b[0m \u001b[0;34m+\u001b[0m \u001b[0mb\u001b[0m \u001b[0;34m**\u001b[0m \u001b[0;36m2\u001b[0m\u001b[0;34m:\u001b[0m\u001b[0;34m\u001b[0m\u001b[0;34m\u001b[0m\u001b[0m\n\u001b[0m\u001b[1;32m      2\u001b[0m     \u001b[0mprint\u001b[0m \u001b[0;34m(\u001b[0m\u001b[0;34m\"Triangle rectangle\"\u001b[0m\u001b[0;34m)\u001b[0m\u001b[0;34m\u001b[0m\u001b[0;34m\u001b[0m\u001b[0m\n\u001b[1;32m      3\u001b[0m     \u001b[0mf\u001b[0m \u001b[0;34m=\u001b[0m \u001b[0;36m1\u001b[0m\u001b[0;34m\u001b[0m\u001b[0;34m\u001b[0m\u001b[0m\n",
      "\u001b[0;31mTypeError\u001b[0m: unsupported operand type(s) for ** or pow(): 'str' and 'int'"
     ]
    }
   ],
   "source": [
    "if b ** 2 == c ** 2 + a ** 2 or a ** 2 == b ** 2 + c ** 2 or c ** 2 == a ** 2 + b ** 2:\n",
    "    print (\"Triangle rectangle\")\n",
    "    f = 1"
   ]
  },
  {
   "cell_type": "code",
   "execution_count": 38,
   "metadata": {},
   "outputs": [
    {
     "name": "stdout",
     "output_type": "stream",
     "text": [
      "entrez la longueur \"a\" du triangle : \n",
      "3\n",
      "entrez la longueur \"b\" du triangle\n",
      "4\n",
      "entrez la longueur \"c\" du triangle\n",
      "5\n",
      "Triangle rectangle\n"
     ]
    }
   ],
   "source": [
    "print ('entrez la longueur \"a\" du triangle : ')\n",
    "a = float(input())\n",
    "print ('entrez la longueur \"b\" du triangle')\n",
    "b = float(input())\n",
    "print ('entrez la longueur \"c\" du triangle')\n",
    "c = float(input ())\n",
    "if b ** 2 == c ** 2 + a ** 2 or a ** 2 == b ** 2 + c ** 2 or c ** 2 == a ** 2 + b ** 2:\n",
    "    print (\"Triangle rectangle\")\n",
    "else : print(\"triangle pas rectangle\")"
   ]
  },
  {
   "cell_type": "code",
   "execution_count": 39,
   "metadata": {},
   "outputs": [
    {
     "name": "stdout",
     "output_type": "stream",
     "text": [
      "entrez la longueur \"a\" du triangle : \n",
      "8\n",
      "entrez la longueur \"b\" du triangle\n",
      "9\n",
      "entrez la longueur \"c\" du triangle\n",
      "10\n",
      "triangle pas rectangle\n"
     ]
    }
   ],
   "source": [
    "print ('entrez la longueur \"a\" du triangle : ')\n",
    "a = float(input())\n",
    "print ('entrez la longueur \"b\" du triangle')\n",
    "b = float(input())\n",
    "print ('entrez la longueur \"c\" du triangle')\n",
    "c = float(input ())\n",
    "if b ** 2 == c ** 2 + a ** 2 or a ** 2 == b ** 2 + c ** 2 or c ** 2 == a ** 2 + b ** 2:\n",
    "    print (\"Triangle rectangle\")\n",
    "else : print(\"triangle pas rectangle\")"
   ]
  },
  {
   "cell_type": "code",
   "execution_count": null,
   "metadata": {},
   "outputs": [],
   "source": []
  }
 ],
 "metadata": {
  "kernelspec": {
   "display_name": "Python 3",
   "language": "python",
   "name": "python3"
  },
  "language_info": {
   "codemirror_mode": {
    "name": "ipython",
    "version": 3
   },
   "file_extension": ".py",
   "mimetype": "text/x-python",
   "name": "python",
   "nbconvert_exporter": "python",
   "pygments_lexer": "ipython3",
   "version": "3.7.4"
  }
 },
 "nbformat": 4,
 "nbformat_minor": 2
}
