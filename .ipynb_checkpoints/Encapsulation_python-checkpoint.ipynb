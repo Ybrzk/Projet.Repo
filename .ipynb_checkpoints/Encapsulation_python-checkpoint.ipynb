{
 "cells": [
  {
   "cell_type": "code",
   "execution_count": 1,
   "metadata": {},
   "outputs": [],
   "source": [
    "# Exercice\n",
    "# 1. Modifier _get_naissance() de sorte qu’il provoque un affichage dans \n",
    "# la console avant de renvoyer la valeur. L’appel au calcul de l’âge\n",
    "# provoque-t-il un affichage supplémentaire ? Pourquoi ?"
   ]
  },
  {
   "cell_type": "code",
   "execution_count": 36,
   "metadata": {},
   "outputs": [
    {
     "name": "stdout",
     "output_type": "stream",
     "text": [
      "24\n",
      "Année de naissance : 1996\n",
      "1996\n"
     ]
    }
   ],
   "source": [
    "class formulaire:\n",
    "    def __init__(self, nom, prenom, naissance):\n",
    "        self.nom = str(nom).upper()\n",
    "        self.prenom = str(prenom).upper()\n",
    "        self.naissance = naissance\n",
    "    def _set_naissance(self, naissance):\n",
    "        na = str(naissance)\n",
    "        if na.isnumeric():\n",
    "            self._naissance = int(na)\n",
    "        else:\n",
    "            self._naissance = 1900\n",
    "    def _get_naissance(self):        \n",
    "        print(\"Année de naissance :\" , self._naissance)\n",
    "        return   self._naissance \n",
    "    naissance = property(_get_naissance, _set_naissance)\n",
    "    def age(self):\n",
    "        return 2020 - self._naissance\n",
    "    def majeur(self):\n",
    "        return self.age() >= 18\n",
    "    def memeFamille(self, formulaire):\n",
    "        return self.nom == fromulaire.nom\n",
    "    \n",
    "ad = formulaire('Yacine', 'Data', '1996')\n",
    "ad.naissance = '1996'\n",
    "print(ad.age())\n",
    "print(ad.naissance)"
   ]
  },
  {
   "cell_type": "code",
   "execution_count": 37,
   "metadata": {},
   "outputs": [],
   "source": [
    "# 2. Modifier _set_naissance() de sorte qu’il gère aussi le cas ou la date\n",
    "# de naissance est donnée comme une liste."
   ]
  },
  {
   "cell_type": "code",
   "execution_count": 43,
   "metadata": {},
   "outputs": [
    {
     "name": "stdout",
     "output_type": "stream",
     "text": [
      "24\n",
      "Année de naissance : 1996\n",
      "1996\n"
     ]
    }
   ],
   "source": [
    "class formulaire:\n",
    "    def __init__(self, nom, prenom, naissance):\n",
    "        self.nom = str(nom).upper()\n",
    "        self.prenom = str(prenom).upper()\n",
    "        self.naissance = naissance\n",
    "    def _set_naissance(self, naissance):\n",
    "        if str(type(naissance)) == \"<class 'list'>\":\n",
    "            naissance = ''.join(naissance)\n",
    "        if str(type(naissance)) == \"<class 'str'>\" and naissance.isnumeric():\n",
    "            naissance = int(naissance)\n",
    "        if str(type(naissance)) == \"<class 'int'>\":\n",
    "            self._naissance = naissance\n",
    "        else:\n",
    "            self._naissance = 1900\n",
    "    def _get_naissance(self):        \n",
    "        print(\"Année de naissance :\" , self._naissance)\n",
    "        return   self._naissance \n",
    "    naissance = property(_get_naissance, _set_naissance)\n",
    "    def age(self):\n",
    "        return 2020 - self._naissance\n",
    "    def majeur(self):\n",
    "        return self.age() >= 18\n",
    "    def memeFamille(self, formulaire):\n",
    "        return self.nom == fromulaire.nom\n",
    "    \n",
    "ad = formulaire('Yacine', 'Data', ['1','9','9','6'])\n",
    "print(ad.age())\n",
    "print(ad.naissance)"
   ]
  },
  {
   "cell_type": "code",
   "execution_count": 42,
   "metadata": {},
   "outputs": [],
   "source": [
    "# 3. Utiliser des propriété similaire pour encapsuler le nom et le prénom."
   ]
  },
  {
   "cell_type": "code",
   "execution_count": 46,
   "metadata": {},
   "outputs": [
    {
     "name": "stdout",
     "output_type": "stream",
     "text": [
      "24\n",
      "Année de naissance : 1996\n",
      "1996\n",
      "Yacine\n",
      "Bourezak\n"
     ]
    }
   ],
   "source": [
    "class formulaire:\n",
    "    def __init__(self, nom, prenom, naissance):\n",
    "        self.nom = str(nom)\n",
    "        self.prenom = str(prenom)\n",
    "        self.naissance = naissance\n",
    "    def _set_naissance(self, naissance):\n",
    "        if str(type(naissance)) == \"<class 'list'>\":\n",
    "            naissance = ''.join(naissance)\n",
    "        if str(type(naissance)) == \"<class 'str'>\" and naissance.isnumeric():\n",
    "            naissance = int(naissance)\n",
    "        if str(type(naissance)) == \"<class 'int'>\":\n",
    "            self._naissance = naissance\n",
    "        #else:\n",
    "        #    self._naissance = 1900\n",
    "    def _get_naissance(self):        \n",
    "        print(\"Année de naissance :\" , self._naissance)\n",
    "        return   self._naissance \n",
    "    naissance = property(_get_naissance, _set_naissance)\n",
    "    def _set_nom(self, nom):\n",
    "        if str(type(nom)) == \"<class 'str'>\":\n",
    "            nom = str(nom)\n",
    "            self._nom = nom\n",
    "        nom = property(_ge\n",
    "    def _get_nom(self):\n",
    "        return   self._nom \n",
    "    def _set_prenom(self, prenom):\n",
    "        if str(type(prenom)) == \"<class 'str'>\":\n",
    "            prenom = str(prenom)\n",
    "            self._prenom = prenom\n",
    "    def _get_prenom(self):\n",
    "        return   self._prenom \n",
    "    def age(self):\n",
    "        return 2020 - self._naissance\n",
    "    def majeur(self):\n",
    "        return self.age() >= 18\n",
    "    def memeFamille(self, formulaire):\n",
    "        return self.nom == fromulaire.nom\n",
    "    \n",
    "ad = formulaire('Yacine', 'Bourezak', ['1','9','9','6'])\n",
    "print(ad.age())\n",
    "print(ad.naissance) \n",
    "print(ad.nom)\n",
    "print(ad.prenom)"
   ]
  },
  {
   "cell_type": "code",
   "execution_count": null,
   "metadata": {},
   "outputs": [],
   "source": []
  }
 ],
 "metadata": {
  "kernelspec": {
   "display_name": "Python 3",
   "language": "python",
   "name": "python3"
  },
  "language_info": {
   "codemirror_mode": {
    "name": "ipython",
    "version": 3
   },
   "file_extension": ".py",
   "mimetype": "text/x-python",
   "name": "python",
   "nbconvert_exporter": "python",
   "pygments_lexer": "ipython3",
   "version": "3.7.4"
  }
 },
 "nbformat": 4,
 "nbformat_minor": 2
}
