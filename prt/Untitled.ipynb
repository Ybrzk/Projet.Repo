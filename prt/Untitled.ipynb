{
 "cells": [
  {
   "cell_type": "code",
   "execution_count": 1,
   "metadata": {},
   "outputs": [],
   "source": [
    "import pandas"
   ]
  },
  {
   "cell_type": "code",
   "execution_count": 18,
   "metadata": {},
   "outputs": [
    {
     "name": "stdout",
     "output_type": "stream",
     "text": [
      "0.25.1\n"
     ]
    }
   ],
   "source": [
    "pandas.options.display.max_rows = 35\n",
    "print(pandas.__version__)"
   ]
  },
  {
   "cell_type": "code",
   "execution_count": 30,
   "metadata": {},
   "outputs": [
    {
     "name": "stdout",
     "output_type": "stream",
     "text": [
      "<class 'pandas.core.frame.DataFrame'>\n"
     ]
    }
   ],
   "source": [
    "df = pandas.read_excel(\"/home/yacine/Téléchargements/autompg.xlsx\",sep = '\\t',header = 0)\n",
    "print(type(df))"
   ]
  },
  {
   "cell_type": "code",
   "execution_count": 31,
   "metadata": {},
   "outputs": [
    {
     "name": "stdout",
     "output_type": "stream",
     "text": [
      "               mpg   cylindres  déplacement   puissance        poids  \\\n",
      "count   398.000000  398.000000   398.000000  392.000000   398.000000   \n",
      "unique         NaN         NaN          NaN         NaN          NaN   \n",
      "top            NaN         NaN          NaN         NaN          NaN   \n",
      "freq           NaN         NaN          NaN         NaN          NaN   \n",
      "mean     23.514573    5.454774   193.425879  104.469388  2970.424623   \n",
      "std       7.815984    1.701004   104.269838   38.491160   846.841774   \n",
      "min       9.000000    3.000000    68.000000   46.000000  1613.000000   \n",
      "25%      17.500000    4.000000   104.250000   75.000000  2223.750000   \n",
      "50%      23.000000    4.000000   148.500000   93.500000  2803.500000   \n",
      "75%      29.000000    8.000000   262.000000  126.000000  3608.000000   \n",
      "max      46.600000    8.000000   455.000000  230.000000  5140.000000   \n",
      "\n",
      "        accélération  année de modèle     origine Nom de la voiture  \n",
      "count     398.000000       398.000000  398.000000               398  \n",
      "unique           NaN              NaN         NaN               305  \n",
      "top              NaN              NaN         NaN        ford pinto  \n",
      "freq             NaN              NaN         NaN                 6  \n",
      "mean       15.568090        76.010050    1.572864               NaN  \n",
      "std         2.757689         3.697627    0.802055               NaN  \n",
      "min         8.000000        70.000000    1.000000               NaN  \n",
      "25%        13.825000        73.000000    1.000000               NaN  \n",
      "50%        15.500000        76.000000    1.000000               NaN  \n",
      "75%        17.175000        79.000000    2.000000               NaN  \n",
      "max        24.800000        82.000000    3.000000               NaN  \n"
     ]
    }
   ],
   "source": [
    "print(df.describe(include='all'))"
   ]
  },
  {
   "cell_type": "code",
   "execution_count": 32,
   "metadata": {},
   "outputs": [],
   "source": [
    "import matplotlib.pyplot as plt"
   ]
  },
  {
   "cell_type": "code",
   "execution_count": 46,
   "metadata": {},
   "outputs": [
    {
     "data": {
      "text/plain": [
       "<matplotlib.axes._subplots.AxesSubplot at 0x7f2b708a46d0>"
      ]
     },
     "execution_count": 46,
     "metadata": {},
     "output_type": "execute_result"
    },
    {
     "data": {
      "image/png": "[encoded data removed]",
      "text/plain": [
       "<Figure size 432x288 with 1 Axes>"
      ]
     },
     "metadata": {
      "needs_background": "light"
     },
     "output_type": "display_data"
    }
   ],
   "source": [
    "df['poids'].plot.kde()"
   ]
  },
  {
   "cell_type": "code",
   "execution_count": null,
   "metadata": {},
   "outputs": [],
   "source": [
    "df.boxplot(column='',by='sexe')"
   ]
  }
 ],
 "metadata": {
  "kernelspec": {
   "display_name": "Python 3",
   "language": "python",
   "name": "python3"
  },
  "language_info": {
   "codemirror_mode": {
    "name": "ipython",
    "version": 3
   },
   "file_extension": ".py",
   "mimetype": "text/x-python",
   "name": "python",
   "nbconvert_exporter": "python",
   "pygments_lexer": "ipython3",
   "version": "3.7.4"
  }
 },
 "nbformat": 4,
 "nbformat_minor": 2
}
