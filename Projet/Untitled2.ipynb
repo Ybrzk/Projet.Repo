{
 "cells": [
  {
   "cell_type": "code",
   "execution_count": 6,
   "metadata": {},
   "outputs": [
    {
     "name": "stdout",
     "output_type": "stream",
     "text": [
      "20, 22, 25, 24\n",
      "20, 22, 25, 24\n",
      "20, 22, 25, 24\n",
      "20, 22, 25, 24\n"
     ]
    }
   ],
   "source": [
    "i = 25\n",
    "while i < 35:\n",
    "    print(\"20, 22, 25, 24\")\n",
    "    i = i + 3"
   ]
  },
  {
   "cell_type": "code",
   "execution_count": 7,
   "metadata": {},
   "outputs": [
    {
     "name": "stdout",
     "output_type": "stream",
     "text": [
      "end = 0\n"
     ]
    }
   ],
   "source": [
    "print (\"end = 0\")"
   ]
  },
  {
   "cell_type": "code",
   "execution_count": 10,
   "metadata": {},
   "outputs": [
    {
     "name": "stdout",
     "output_type": "stream",
     "text": [
      "Saisir le prix HT : 10\n",
      "prix TTC :  12.0\n",
      "Saisir le prix HT : 7\n",
      "prix TTC :  8.4\n",
      "Saisir le prix HT : 8\n",
      "prix TTC :  9.6\n",
      "Saisir le prix HT : 0\n",
      "prix TTC :  0.0\n"
     ]
    }
   ],
   "source": [
    "while HT != 0 : \n",
    "    HT = float(input(\"Saisir le prix HT : \"))\n",
    "    TTC = HT * 1.20\n",
    "    print (\"prix TTC : \",TTC)\n"
   ]
  },
  {
   "cell_type": "code",
   "execution_count": 11,
   "metadata": {},
   "outputs": [],
   "source": [
    "import math"
   ]
  },
  {
   "cell_type": "code",
   "execution_count": 14,
   "metadata": {},
   "outputs": [
    {
     "name": "stdout",
     "output_type": "stream",
     "text": [
      "[1, 2, 3, 4, 3, 2, 1]\n",
      "devient  [1, 2, 3, 4, 3, 2, 1]\n"
     ]
    }
   ],
   "source": [
    "A = [1, 2, 3, 4, 3, 2, 1]\n",
    "B = A [ : ]\n",
    "B.reverse()\n",
    "print (A)\n",
    "print (\"devient \", B)"
   ]
  },
  {
   "cell_type": "code",
   "execution_count": 18,
   "metadata": {},
   "outputs": [
    {
     "name": "stdout",
     "output_type": "stream",
     "text": [
      "c'est un palindrome\n"
     ]
    }
   ],
   "source": [
    "A = [1, 2, 3, 4, 3, 2, 1]\n",
    "list_reversed = []\n",
    "for i in A:\n",
    "    list_reversed.insert(0, i)\n",
    "if A == list_reversed:\n",
    "    print(\"c'est un palindrome\")\n",
    "else:\n",
    "    print(\"c'est pas un palindrome\")"
   ]
  },
  {
   "cell_type": "code",
   "execution_count": null,
   "metadata": {},
   "outputs": [],
   "source": [
    "A = [1, 2, 3, 4, 3, 2, 1]\n",
    "list_reversed = []\n",
    "while (A != 0):\n",
    "      a = 3\n",
    "for i in A: \n",
    "    list_reversed.insert(0, i)\n",
    "if A == list_reversed:\n",
    "    print(\"c'est un palindrome\")\n",
    "else:\n",
    "    print(\"c'est pas un palindrome\")\n",
    "    "
   ]
  },
  {
   "cell_type": "code",
   "execution_count": null,
   "metadata": {},
   "outputs": [],
   "source": [
    "import math "
   ]
  },
  {
   "cell_type": "code",
   "execution_count": null,
   "metadata": {},
   "outputs": [],
   "source": [
    "def palindrome [1, 2, 3, 4, 3, 2, 1]\n",
    "    i, longueur = 0, len [1, 2, 3, 4, 3, 2, 1]\n",
    "    \n",
    "    while i < longueur:\n",
    "        if chaine [i] != [-i, -1]:\n",
    "              return false\n",
    "         i += 1\n",
    "     return True \n",
    "if palindrome (raw_input()):\n",
    "    print(\"palindrome\")\n",
    "else\n",
    "    print (\"Pas palindrome\")\n",
    "        "
   ]
  },
  {
   "cell_type": "code",
   "execution_count": null,
   "metadata": {},
   "outputs": [],
   "source": []
  }
 ],
 "metadata": {
  "kernelspec": {
   "display_name": "Python 3",
   "language": "python",
   "name": "python3"
  },
  "language_info": {
   "codemirror_mode": {
    "name": "ipython",
    "version": 3
   },
   "file_extension": ".py",
   "mimetype": "text/x-python",
   "name": "python",
   "nbconvert_exporter": "python",
   "pygments_lexer": "ipython3",
   "version": "3.7.4"
  }
 },
 "nbformat": 4,
 "nbformat_minor": 2
}
