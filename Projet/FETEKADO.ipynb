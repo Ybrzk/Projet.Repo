{
 "cells": [
  {
   "cell_type": "code",
   "execution_count": 2,
   "metadata": {},
   "outputs": [],
   "source": [
    "liste = [\"Samba Cisse\", \"Rafk Lachaal\", \"Jonathan Michel\", \"Hachem Mosbah\", \"Ines Dridi\", \"Ludovic Randon\", \"Yoann Lucido\", \"Noemie Sauer\", \"Sabine Nasr\", \"Romain Grimaldi\", \"Sacha Kojic\", \"Joshua Harris\", \"Dylan Poinsu\", \"Daniel Kaddous\", \"Yacine Bourezak\", \"Denys Pes\", \"Jonathan Belletrud\", \"Hachem Baya\"]\n"
   ]
  },
  {
   "cell_type": "code",
   "execution_count": 3,
   "metadata": {},
   "outputs": [],
   "source": [
    "import random"
   ]
  },
  {
   "cell_type": "code",
   "execution_count": 7,
   "metadata": {},
   "outputs": [
    {
     "name": "stdout",
     "output_type": "stream",
     "text": [
      "['Hachem Mosbah', 'Romain Grimaldi', 'Yacine Bourezak', 'Sacha Kojic', 'Sabine Nasr', 'Ines Dridi', 'Yoann Lucido', 'Samba Cisse', 'Jonathan Belletrud', 'Ludovic Randon', 'Joshua Harris', 'Rafk Lachaal', 'Noemie Sauer', 'Daniel Kaddous', 'Hachem Baya', 'Jonathan Michel', 'Dylan Poinsu', 'Denys Pes']\n"
     ]
    }
   ],
   "source": [
    "liste = [\"Samba Cisse\", \"Rafk Lachaal\", \"Jonathan Michel\", \"Hachem Mosbah\", \"Ines Dridi\", \"Ludovic Randon\", \"Yoann Lucido\", \"Noemie Sauer\", \"Sabine Nasr\", \"Romain Grimaldi\", \"Sacha Kojic\", \"Joshua Harris\", \"Dylan Poinsu\", \"Daniel Kaddous\", \"Yacine Bourezak\", \"Denys Pes\", \"Jonathan Belletrud\", \"Hachem Baya\"]\n",
    "random.shuffle(liste)\n",
    "\n",
    "\n",
    "print(liste)"
   ]
  },
  {
   "cell_type": "code",
   "execution_count": 10,
   "metadata": {},
   "outputs": [
    {
     "name": "stdout",
     "output_type": "stream",
     "text": [
      "Hachem Mosbah donne son cadeau à Romain Grimaldi\n",
      "Romain Grimaldi donne son cadeau à Yacine Bourezak\n",
      "Yacine Bourezak donne son cadeau à Sacha Kojic\n",
      "Sacha Kojic donne son cadeau à Sabine Nasr\n",
      "Sabine Nasr donne son cadeau à Ines Dridi\n",
      "Ines Dridi donne son cadeau à Yoann Lucido\n",
      "Yoann Lucido donne son cadeau à Samba Cisse\n",
      "Samba Cisse donne son cadeau à Jonathan Belletrud\n",
      "Jonathan Belletrud donne son cadeau à Ludovic Randon\n",
      "Ludovic Randon donne son cadeau à Joshua Harris\n",
      "Joshua Harris donne son cadeau à Rafk Lachaal\n",
      "Rafk Lachaal donne son cadeau à Noemie Sauer\n",
      "Noemie Sauer donne son cadeau à Daniel Kaddous\n",
      "Daniel Kaddous donne son cadeau à Hachem Baya\n",
      "Hachem Baya donne son cadeau à Jonathan Michel\n",
      "Jonathan Michel donne son cadeau à Dylan Poinsu\n",
      "Dylan Poinsu donne son cadeau à Denys Pes\n",
      "Denys Pes donne son cadeau à Hachem Mosbah\n"
     ]
    }
   ],
   "source": [
    "for i in range(len(liste)-1) :\n",
    "  print(liste[i], \"donne son cadeau à\", liste[i + 1])\n",
    "\n",
    "print(liste[-1], \"donne son cadeau à\", liste[0])"
   ]
  },
  {
   "cell_type": "code",
   "execution_count": null,
   "metadata": {},
   "outputs": [],
   "source": []
  }
 ],
 "metadata": {
  "kernelspec": {
   "display_name": "Python 3",
   "language": "python",
   "name": "python3"
  },
  "language_info": {
   "codemirror_mode": {
    "name": "ipython",
    "version": 3
   },
   "file_extension": ".py",
   "mimetype": "text/x-python",
   "name": "python",
   "nbconvert_exporter": "python",
   "pygments_lexer": "ipython3",
   "version": "3.7.4"
  }
 },
 "nbformat": 4,
 "nbformat_minor": 2
}
